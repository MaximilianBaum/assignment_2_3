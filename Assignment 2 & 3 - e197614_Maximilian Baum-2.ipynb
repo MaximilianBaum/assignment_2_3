{
 "cells": [
  {
   "cell_type": "markdown",
   "metadata": {},
   "source": [
    "# Data visualisation"
   ]
  },
  {
   "cell_type": "code",
   "execution_count": 58,
   "metadata": {},
   "outputs": [],
   "source": [
    "# import packages\n",
    "import numpy as np\n",
    "import pandas as pd\n",
    "import seaborn as sns\n",
    "import matplotlib.pyplot as plt\n",
    "%matplotlib inline"
   ]
  },
  {
   "cell_type": "code",
   "execution_count": 59,
   "metadata": {},
   "outputs": [],
   "source": [
    "# read csv training data\n",
    "df = pd.read_csv('train.csv')"
   ]
  },
  {
   "cell_type": "markdown",
   "metadata": {},
   "source": [
    "# Data visualisation"
   ]
  },
  {
   "cell_type": "code",
   "execution_count": 60,
   "metadata": {},
   "outputs": [
    {
     "data": {
      "text/html": [
       "<div>\n",
       "<style scoped>\n",
       "    .dataframe tbody tr th:only-of-type {\n",
       "        vertical-align: middle;\n",
       "    }\n",
       "\n",
       "    .dataframe tbody tr th {\n",
       "        vertical-align: top;\n",
       "    }\n",
       "\n",
       "    .dataframe thead th {\n",
       "        text-align: right;\n",
       "    }\n",
       "</style>\n",
       "<table border=\"1\" class=\"dataframe\">\n",
       "  <thead>\n",
       "    <tr style=\"text-align: right;\">\n",
       "      <th></th>\n",
       "      <th>label</th>\n",
       "      <th>id</th>\n",
       "      <th>visitTime</th>\n",
       "      <th>purchaseTime</th>\n",
       "      <th>hour</th>\n",
       "      <th>C1</th>\n",
       "      <th>C2</th>\n",
       "      <th>C3</th>\n",
       "      <th>C4</th>\n",
       "      <th>C5</th>\n",
       "      <th>...</th>\n",
       "      <th>N4</th>\n",
       "      <th>N5</th>\n",
       "      <th>N6</th>\n",
       "      <th>N7</th>\n",
       "      <th>N8</th>\n",
       "      <th>N9</th>\n",
       "      <th>N10</th>\n",
       "      <th>C10</th>\n",
       "      <th>C11</th>\n",
       "      <th>C12</th>\n",
       "    </tr>\n",
       "  </thead>\n",
       "  <tbody>\n",
       "    <tr>\n",
       "      <th>0</th>\n",
       "      <td>-1</td>\n",
       "      <td>37</td>\n",
       "      <td>19274330</td>\n",
       "      <td>-1</td>\n",
       "      <td>0</td>\n",
       "      <td>2569487005</td>\n",
       "      <td>1830830742</td>\n",
       "      <td>4228834423</td>\n",
       "      <td>652481754</td>\n",
       "      <td>2967512603</td>\n",
       "      <td>...</td>\n",
       "      <td>0</td>\n",
       "      <td>0</td>\n",
       "      <td>0</td>\n",
       "      <td>0</td>\n",
       "      <td>0</td>\n",
       "      <td>0</td>\n",
       "      <td>0</td>\n",
       "      <td>419316267</td>\n",
       "      <td>3617851689</td>\n",
       "      <td>4220791646</td>\n",
       "    </tr>\n",
       "    <tr>\n",
       "      <th>1</th>\n",
       "      <td>-1</td>\n",
       "      <td>55</td>\n",
       "      <td>19274334</td>\n",
       "      <td>-1</td>\n",
       "      <td>0</td>\n",
       "      <td>3191875643</td>\n",
       "      <td>403381353</td>\n",
       "      <td>1238330876</td>\n",
       "      <td>652481754</td>\n",
       "      <td>2967512603</td>\n",
       "      <td>...</td>\n",
       "      <td>0</td>\n",
       "      <td>0</td>\n",
       "      <td>0</td>\n",
       "      <td>0</td>\n",
       "      <td>1</td>\n",
       "      <td>0</td>\n",
       "      <td>0</td>\n",
       "      <td>1968545380</td>\n",
       "      <td>3831440054</td>\n",
       "      <td>1213938795</td>\n",
       "    </tr>\n",
       "    <tr>\n",
       "      <th>2</th>\n",
       "      <td>-1</td>\n",
       "      <td>114</td>\n",
       "      <td>19274353</td>\n",
       "      <td>-1</td>\n",
       "      <td>0</td>\n",
       "      <td>2634604934</td>\n",
       "      <td>403381353</td>\n",
       "      <td>1928325921</td>\n",
       "      <td>652481754</td>\n",
       "      <td>2967512603</td>\n",
       "      <td>...</td>\n",
       "      <td>0</td>\n",
       "      <td>0</td>\n",
       "      <td>0</td>\n",
       "      <td>0</td>\n",
       "      <td>0</td>\n",
       "      <td>0</td>\n",
       "      <td>0</td>\n",
       "      <td>1405802835</td>\n",
       "      <td>2379633508</td>\n",
       "      <td>1284343215</td>\n",
       "    </tr>\n",
       "    <tr>\n",
       "      <th>3</th>\n",
       "      <td>-1</td>\n",
       "      <td>128</td>\n",
       "      <td>19274358</td>\n",
       "      <td>-1</td>\n",
       "      <td>0</td>\n",
       "      <td>2569487005</td>\n",
       "      <td>403381353</td>\n",
       "      <td>296915027</td>\n",
       "      <td>652481754</td>\n",
       "      <td>2967512603</td>\n",
       "      <td>...</td>\n",
       "      <td>0</td>\n",
       "      <td>0</td>\n",
       "      <td>0</td>\n",
       "      <td>0</td>\n",
       "      <td>0</td>\n",
       "      <td>0</td>\n",
       "      <td>0</td>\n",
       "      <td>2299319102</td>\n",
       "      <td>3617851689</td>\n",
       "      <td>4220791646</td>\n",
       "    </tr>\n",
       "    <tr>\n",
       "      <th>4</th>\n",
       "      <td>-1</td>\n",
       "      <td>164</td>\n",
       "      <td>19274367</td>\n",
       "      <td>-1</td>\n",
       "      <td>0</td>\n",
       "      <td>2569487005</td>\n",
       "      <td>403381353</td>\n",
       "      <td>681762206</td>\n",
       "      <td>652481754</td>\n",
       "      <td>2967512603</td>\n",
       "      <td>...</td>\n",
       "      <td>0</td>\n",
       "      <td>0</td>\n",
       "      <td>0</td>\n",
       "      <td>0</td>\n",
       "      <td>0</td>\n",
       "      <td>0</td>\n",
       "      <td>0</td>\n",
       "      <td>1306075469</td>\n",
       "      <td>3617851689</td>\n",
       "      <td>4220791646</td>\n",
       "    </tr>\n",
       "  </tbody>\n",
       "</table>\n",
       "<p>5 rows × 27 columns</p>\n",
       "</div>"
      ],
      "text/plain": [
       "   label   id  visitTime  purchaseTime  hour          C1          C2  \\\n",
       "0     -1   37   19274330            -1     0  2569487005  1830830742   \n",
       "1     -1   55   19274334            -1     0  3191875643   403381353   \n",
       "2     -1  114   19274353            -1     0  2634604934   403381353   \n",
       "3     -1  128   19274358            -1     0  2569487005   403381353   \n",
       "4     -1  164   19274367            -1     0  2569487005   403381353   \n",
       "\n",
       "           C3         C4          C5  ...  N4  N5  N6  N7  N8  N9  N10  \\\n",
       "0  4228834423  652481754  2967512603  ...   0   0   0   0   0   0    0   \n",
       "1  1238330876  652481754  2967512603  ...   0   0   0   0   1   0    0   \n",
       "2  1928325921  652481754  2967512603  ...   0   0   0   0   0   0    0   \n",
       "3   296915027  652481754  2967512603  ...   0   0   0   0   0   0    0   \n",
       "4   681762206  652481754  2967512603  ...   0   0   0   0   0   0    0   \n",
       "\n",
       "          C10         C11         C12  \n",
       "0   419316267  3617851689  4220791646  \n",
       "1  1968545380  3831440054  1213938795  \n",
       "2  1405802835  2379633508  1284343215  \n",
       "3  2299319102  3617851689  4220791646  \n",
       "4  1306075469  3617851689  4220791646  \n",
       "\n",
       "[5 rows x 27 columns]"
      ]
     },
     "execution_count": 60,
     "metadata": {},
     "output_type": "execute_result"
    }
   ],
   "source": [
    "df.head()"
   ]
  },
  {
   "cell_type": "code",
   "execution_count": 61,
   "metadata": {},
   "outputs": [
    {
     "data": {
      "text/html": [
       "<div>\n",
       "<style scoped>\n",
       "    .dataframe tbody tr th:only-of-type {\n",
       "        vertical-align: middle;\n",
       "    }\n",
       "\n",
       "    .dataframe tbody tr th {\n",
       "        vertical-align: top;\n",
       "    }\n",
       "\n",
       "    .dataframe thead th {\n",
       "        text-align: right;\n",
       "    }\n",
       "</style>\n",
       "<table border=\"1\" class=\"dataframe\">\n",
       "  <thead>\n",
       "    <tr style=\"text-align: right;\">\n",
       "      <th></th>\n",
       "      <th>label</th>\n",
       "      <th>id</th>\n",
       "      <th>visitTime</th>\n",
       "      <th>purchaseTime</th>\n",
       "      <th>hour</th>\n",
       "      <th>C1</th>\n",
       "      <th>C2</th>\n",
       "      <th>C3</th>\n",
       "      <th>C4</th>\n",
       "      <th>C5</th>\n",
       "      <th>...</th>\n",
       "      <th>N4</th>\n",
       "      <th>N5</th>\n",
       "      <th>N6</th>\n",
       "      <th>N7</th>\n",
       "      <th>N8</th>\n",
       "      <th>N9</th>\n",
       "      <th>N10</th>\n",
       "      <th>C10</th>\n",
       "      <th>C11</th>\n",
       "      <th>C12</th>\n",
       "    </tr>\n",
       "  </thead>\n",
       "  <tbody>\n",
       "    <tr>\n",
       "      <th>count</th>\n",
       "      <td>31428.000000</td>\n",
       "      <td>31428.000000</td>\n",
       "      <td>3.142800e+04</td>\n",
       "      <td>3.142800e+04</td>\n",
       "      <td>31428.000000</td>\n",
       "      <td>3.142800e+04</td>\n",
       "      <td>3.142800e+04</td>\n",
       "      <td>3.142800e+04</td>\n",
       "      <td>3.142800e+04</td>\n",
       "      <td>3.142800e+04</td>\n",
       "      <td>...</td>\n",
       "      <td>31428.000000</td>\n",
       "      <td>31428.000000</td>\n",
       "      <td>31428.000000</td>\n",
       "      <td>31428.000000</td>\n",
       "      <td>31428.000000</td>\n",
       "      <td>31428.000000</td>\n",
       "      <td>31428.000000</td>\n",
       "      <td>3.142800e+04</td>\n",
       "      <td>3.142800e+04</td>\n",
       "      <td>3.142800e+04</td>\n",
       "    </tr>\n",
       "    <tr>\n",
       "      <th>mean</th>\n",
       "      <td>-0.996373</td>\n",
       "      <td>321870.448835</td>\n",
       "      <td>1.931855e+07</td>\n",
       "      <td>3.504330e+04</td>\n",
       "      <td>11.799701</td>\n",
       "      <td>2.264373e+09</td>\n",
       "      <td>1.331820e+09</td>\n",
       "      <td>2.255368e+09</td>\n",
       "      <td>1.018468e+09</td>\n",
       "      <td>2.741699e+09</td>\n",
       "      <td>...</td>\n",
       "      <td>0.134307</td>\n",
       "      <td>0.002386</td>\n",
       "      <td>0.027269</td>\n",
       "      <td>0.002164</td>\n",
       "      <td>0.415680</td>\n",
       "      <td>0.042319</td>\n",
       "      <td>0.057560</td>\n",
       "      <td>2.218926e+09</td>\n",
       "      <td>2.939366e+09</td>\n",
       "      <td>2.158890e+09</td>\n",
       "    </tr>\n",
       "    <tr>\n",
       "      <th>std</th>\n",
       "      <td>0.085098</td>\n",
       "      <td>184665.780120</td>\n",
       "      <td>1.690395e+04</td>\n",
       "      <td>8.221503e+05</td>\n",
       "      <td>4.695434</td>\n",
       "      <td>1.077516e+09</td>\n",
       "      <td>7.900907e+08</td>\n",
       "      <td>1.125852e+09</td>\n",
       "      <td>7.260969e+08</td>\n",
       "      <td>3.771211e+08</td>\n",
       "      <td>...</td>\n",
       "      <td>1.258795</td>\n",
       "      <td>0.156001</td>\n",
       "      <td>0.562668</td>\n",
       "      <td>0.079745</td>\n",
       "      <td>3.184785</td>\n",
       "      <td>1.008314</td>\n",
       "      <td>1.158253</td>\n",
       "      <td>1.235285e+09</td>\n",
       "      <td>1.020598e+09</td>\n",
       "      <td>1.416777e+09</td>\n",
       "    </tr>\n",
       "    <tr>\n",
       "      <th>min</th>\n",
       "      <td>-1.000000</td>\n",
       "      <td>37.000000</td>\n",
       "      <td>1.927433e+07</td>\n",
       "      <td>-1.000000e+00</td>\n",
       "      <td>0.000000</td>\n",
       "      <td>7.942600e+04</td>\n",
       "      <td>4.033814e+08</td>\n",
       "      <td>5.538985e+06</td>\n",
       "      <td>3.063949e+08</td>\n",
       "      <td>2.116767e+09</td>\n",
       "      <td>...</td>\n",
       "      <td>0.000000</td>\n",
       "      <td>0.000000</td>\n",
       "      <td>0.000000</td>\n",
       "      <td>0.000000</td>\n",
       "      <td>0.000000</td>\n",
       "      <td>0.000000</td>\n",
       "      <td>0.000000</td>\n",
       "      <td>1.626600e+04</td>\n",
       "      <td>4.393702e+07</td>\n",
       "      <td>2.456084e+08</td>\n",
       "    </tr>\n",
       "    <tr>\n",
       "      <th>25%</th>\n",
       "      <td>-1.000000</td>\n",
       "      <td>162636.500000</td>\n",
       "      <td>1.930609e+07</td>\n",
       "      <td>-1.000000e+00</td>\n",
       "      <td>8.000000</td>\n",
       "      <td>1.464958e+09</td>\n",
       "      <td>4.033814e+08</td>\n",
       "      <td>1.408383e+09</td>\n",
       "      <td>6.524818e+08</td>\n",
       "      <td>2.116767e+09</td>\n",
       "      <td>...</td>\n",
       "      <td>0.000000</td>\n",
       "      <td>0.000000</td>\n",
       "      <td>0.000000</td>\n",
       "      <td>0.000000</td>\n",
       "      <td>0.000000</td>\n",
       "      <td>0.000000</td>\n",
       "      <td>0.000000</td>\n",
       "      <td>1.140301e+09</td>\n",
       "      <td>2.379634e+09</td>\n",
       "      <td>1.213939e+09</td>\n",
       "    </tr>\n",
       "    <tr>\n",
       "      <th>50%</th>\n",
       "      <td>-1.000000</td>\n",
       "      <td>322691.500000</td>\n",
       "      <td>1.931761e+07</td>\n",
       "      <td>-1.000000e+00</td>\n",
       "      <td>12.000000</td>\n",
       "      <td>2.569487e+09</td>\n",
       "      <td>1.235983e+09</td>\n",
       "      <td>2.243934e+09</td>\n",
       "      <td>6.524818e+08</td>\n",
       "      <td>2.967513e+09</td>\n",
       "      <td>...</td>\n",
       "      <td>0.000000</td>\n",
       "      <td>0.000000</td>\n",
       "      <td>0.000000</td>\n",
       "      <td>0.000000</td>\n",
       "      <td>0.000000</td>\n",
       "      <td>0.000000</td>\n",
       "      <td>0.000000</td>\n",
       "      <td>2.274128e+09</td>\n",
       "      <td>3.617852e+09</td>\n",
       "      <td>1.284343e+09</td>\n",
       "    </tr>\n",
       "    <tr>\n",
       "      <th>75%</th>\n",
       "      <td>-1.000000</td>\n",
       "      <td>481852.000000</td>\n",
       "      <td>1.933113e+07</td>\n",
       "      <td>-1.000000e+00</td>\n",
       "      <td>15.000000</td>\n",
       "      <td>2.834768e+09</td>\n",
       "      <td>2.018710e+09</td>\n",
       "      <td>3.326547e+09</td>\n",
       "      <td>6.524818e+08</td>\n",
       "      <td>2.967513e+09</td>\n",
       "      <td>...</td>\n",
       "      <td>0.000000</td>\n",
       "      <td>0.000000</td>\n",
       "      <td>0.000000</td>\n",
       "      <td>0.000000</td>\n",
       "      <td>0.000000</td>\n",
       "      <td>0.000000</td>\n",
       "      <td>0.000000</td>\n",
       "      <td>3.376114e+09</td>\n",
       "      <td>3.831440e+09</td>\n",
       "      <td>4.220792e+09</td>\n",
       "    </tr>\n",
       "    <tr>\n",
       "      <th>max</th>\n",
       "      <td>1.000000</td>\n",
       "      <td>638505.000000</td>\n",
       "      <td>1.936054e+07</td>\n",
       "      <td>1.935732e+07</td>\n",
       "      <td>23.000000</td>\n",
       "      <td>4.294924e+09</td>\n",
       "      <td>2.541204e+09</td>\n",
       "      <td>4.292704e+09</td>\n",
       "      <td>2.308171e+09</td>\n",
       "      <td>3.955179e+09</td>\n",
       "      <td>...</td>\n",
       "      <td>20.000000</td>\n",
       "      <td>20.000000</td>\n",
       "      <td>20.000000</td>\n",
       "      <td>10.000000</td>\n",
       "      <td>97.000000</td>\n",
       "      <td>85.000000</td>\n",
       "      <td>86.000000</td>\n",
       "      <td>4.294964e+09</td>\n",
       "      <td>3.831440e+09</td>\n",
       "      <td>4.220792e+09</td>\n",
       "    </tr>\n",
       "  </tbody>\n",
       "</table>\n",
       "<p>8 rows × 27 columns</p>\n",
       "</div>"
      ],
      "text/plain": [
       "              label             id     visitTime  purchaseTime          hour  \\\n",
       "count  31428.000000   31428.000000  3.142800e+04  3.142800e+04  31428.000000   \n",
       "mean      -0.996373  321870.448835  1.931855e+07  3.504330e+04     11.799701   \n",
       "std        0.085098  184665.780120  1.690395e+04  8.221503e+05      4.695434   \n",
       "min       -1.000000      37.000000  1.927433e+07 -1.000000e+00      0.000000   \n",
       "25%       -1.000000  162636.500000  1.930609e+07 -1.000000e+00      8.000000   \n",
       "50%       -1.000000  322691.500000  1.931761e+07 -1.000000e+00     12.000000   \n",
       "75%       -1.000000  481852.000000  1.933113e+07 -1.000000e+00     15.000000   \n",
       "max        1.000000  638505.000000  1.936054e+07  1.935732e+07     23.000000   \n",
       "\n",
       "                 C1            C2            C3            C4            C5  \\\n",
       "count  3.142800e+04  3.142800e+04  3.142800e+04  3.142800e+04  3.142800e+04   \n",
       "mean   2.264373e+09  1.331820e+09  2.255368e+09  1.018468e+09  2.741699e+09   \n",
       "std    1.077516e+09  7.900907e+08  1.125852e+09  7.260969e+08  3.771211e+08   \n",
       "min    7.942600e+04  4.033814e+08  5.538985e+06  3.063949e+08  2.116767e+09   \n",
       "25%    1.464958e+09  4.033814e+08  1.408383e+09  6.524818e+08  2.116767e+09   \n",
       "50%    2.569487e+09  1.235983e+09  2.243934e+09  6.524818e+08  2.967513e+09   \n",
       "75%    2.834768e+09  2.018710e+09  3.326547e+09  6.524818e+08  2.967513e+09   \n",
       "max    4.294924e+09  2.541204e+09  4.292704e+09  2.308171e+09  3.955179e+09   \n",
       "\n",
       "       ...            N4            N5            N6            N7  \\\n",
       "count  ...  31428.000000  31428.000000  31428.000000  31428.000000   \n",
       "mean   ...      0.134307      0.002386      0.027269      0.002164   \n",
       "std    ...      1.258795      0.156001      0.562668      0.079745   \n",
       "min    ...      0.000000      0.000000      0.000000      0.000000   \n",
       "25%    ...      0.000000      0.000000      0.000000      0.000000   \n",
       "50%    ...      0.000000      0.000000      0.000000      0.000000   \n",
       "75%    ...      0.000000      0.000000      0.000000      0.000000   \n",
       "max    ...     20.000000     20.000000     20.000000     10.000000   \n",
       "\n",
       "                 N8            N9           N10           C10           C11  \\\n",
       "count  31428.000000  31428.000000  31428.000000  3.142800e+04  3.142800e+04   \n",
       "mean       0.415680      0.042319      0.057560  2.218926e+09  2.939366e+09   \n",
       "std        3.184785      1.008314      1.158253  1.235285e+09  1.020598e+09   \n",
       "min        0.000000      0.000000      0.000000  1.626600e+04  4.393702e+07   \n",
       "25%        0.000000      0.000000      0.000000  1.140301e+09  2.379634e+09   \n",
       "50%        0.000000      0.000000      0.000000  2.274128e+09  3.617852e+09   \n",
       "75%        0.000000      0.000000      0.000000  3.376114e+09  3.831440e+09   \n",
       "max       97.000000     85.000000     86.000000  4.294964e+09  3.831440e+09   \n",
       "\n",
       "                C12  \n",
       "count  3.142800e+04  \n",
       "mean   2.158890e+09  \n",
       "std    1.416777e+09  \n",
       "min    2.456084e+08  \n",
       "25%    1.213939e+09  \n",
       "50%    1.284343e+09  \n",
       "75%    4.220792e+09  \n",
       "max    4.220792e+09  \n",
       "\n",
       "[8 rows x 27 columns]"
      ]
     },
     "execution_count": 61,
     "metadata": {},
     "output_type": "execute_result"
    }
   ],
   "source": [
    "df.describe()"
   ]
  },
  {
   "cell_type": "code",
   "execution_count": 62,
   "metadata": {},
   "outputs": [
    {
     "data": {
      "text/plain": [
       "<matplotlib.axes._subplots.AxesSubplot at 0x124b41780>"
      ]
     },
     "execution_count": 62,
     "metadata": {},
     "output_type": "execute_result"
    },
    {
     "data": {
      "image/png": "[encoded data removed]",
      "text/plain": [
       "<matplotlib.figure.Figure at 0x1254c5438>"
      ]
     },
     "metadata": {},
     "output_type": "display_data"
    }
   ],
   "source": [
    "#check for missing values\n",
    "sns.heatmap(df.isnull(),yticklabels=False,cbar=False,cmap='viridis')"
   ]
  },
  {
   "cell_type": "markdown",
   "metadata": {},
   "source": [
    "No missing values. We now check the class distribution"
   ]
  },
  {
   "cell_type": "code",
   "execution_count": 63,
   "metadata": {},
   "outputs": [
    {
     "data": {
      "text/plain": [
       "<matplotlib.axes._subplots.AxesSubplot at 0x125501550>"
      ]
     },
     "execution_count": 63,
     "metadata": {},
     "output_type": "execute_result"
    },
    {
     "data": {
      "image/png": "[encoded data removed]",
      "text/plain": [
       "<matplotlib.figure.Figure at 0x12580e518>"
      ]
     },
     "metadata": {},
     "output_type": "display_data"
    }
   ],
   "source": [
    "sns.countplot(data=df, x='label')"
   ]
  },
  {
   "cell_type": "code",
   "execution_count": 64,
   "metadata": {},
   "outputs": [
    {
     "data": {
      "text/plain": [
       "-1    31371\n",
       " 1       57\n",
       "Name: label, dtype: int64"
      ]
     },
     "execution_count": 64,
     "metadata": {},
     "output_type": "execute_result"
    }
   ],
   "source": [
    "df['label'].value_counts()"
   ]
  },
  {
   "cell_type": "markdown",
   "metadata": {},
   "source": [
    "### -> Imbalance of classes"
   ]
  },
  {
   "cell_type": "code",
   "execution_count": 65,
   "metadata": {},
   "outputs": [
    {
     "data": {
      "text/plain": [
       "<matplotlib.axes._subplots.AxesSubplot at 0x125814128>"
      ]
     },
     "execution_count": 65,
     "metadata": {},
     "output_type": "execute_result"
    },
    {
     "data": {
      "image/png": "[encoded data removed]",
      "text/plain": [
       "<matplotlib.figure.Figure at 0x12587c1d0>"
      ]
     },
     "metadata": {},
     "output_type": "display_data"
    }
   ],
   "source": [
    "sns.heatmap(df.corr(), cmap = 'viridis')"
   ]
  },
  {
   "cell_type": "markdown",
   "metadata": {},
   "source": [
    "### -> visitTime and hour are highly corrleated. There, we remove visitTime"
   ]
  },
  {
   "cell_type": "code",
   "execution_count": 172,
   "metadata": {},
   "outputs": [
    {
     "ename": "KeyError",
     "evalue": "\"['visitTime'] not found in axis\"",
     "output_type": "error",
     "traceback": [
      "\u001b[0;31m---------------------------------------------------------------------------\u001b[0m",
      "\u001b[0;31mKeyError\u001b[0m                                  Traceback (most recent call last)",
      "\u001b[0;32m<ipython-input-172-0baab04c739a>\u001b[0m in \u001b[0;36m<module>\u001b[0;34m()\u001b[0m\n\u001b[0;32m----> 1\u001b[0;31m \u001b[0mdf\u001b[0m\u001b[0;34m.\u001b[0m\u001b[0mdrop\u001b[0m\u001b[0;34m(\u001b[0m\u001b[0;34m'visitTime'\u001b[0m\u001b[0;34m,\u001b[0m \u001b[0maxis\u001b[0m\u001b[0;34m=\u001b[0m\u001b[0;36m1\u001b[0m\u001b[0;34m,\u001b[0m \u001b[0minplace\u001b[0m\u001b[0;34m=\u001b[0m\u001b[0;32mTrue\u001b[0m\u001b[0;34m)\u001b[0m\u001b[0;34m\u001b[0m\u001b[0m\n\u001b[0m",
      "\u001b[0;32m/anaconda3/lib/python3.6/site-packages/pandas/core/frame.py\u001b[0m in \u001b[0;36mdrop\u001b[0;34m(self, labels, axis, index, columns, level, inplace, errors)\u001b[0m\n\u001b[1;32m   3995\u001b[0m             \u001b[0mlevel\u001b[0m\u001b[0;34m=\u001b[0m\u001b[0mlevel\u001b[0m\u001b[0;34m,\u001b[0m\u001b[0;34m\u001b[0m\u001b[0m\n\u001b[1;32m   3996\u001b[0m             \u001b[0minplace\u001b[0m\u001b[0;34m=\u001b[0m\u001b[0minplace\u001b[0m\u001b[0;34m,\u001b[0m\u001b[0;34m\u001b[0m\u001b[0m\n\u001b[0;32m-> 3997\u001b[0;31m             \u001b[0merrors\u001b[0m\u001b[0;34m=\u001b[0m\u001b[0merrors\u001b[0m\u001b[0;34m,\u001b[0m\u001b[0;34m\u001b[0m\u001b[0m\n\u001b[0m\u001b[1;32m   3998\u001b[0m         )\n\u001b[1;32m   3999\u001b[0m \u001b[0;34m\u001b[0m\u001b[0m\n",
      "\u001b[0;32m/anaconda3/lib/python3.6/site-packages/pandas/core/generic.py\u001b[0m in \u001b[0;36mdrop\u001b[0;34m(self, labels, axis, index, columns, level, inplace, errors)\u001b[0m\n\u001b[1;32m   3934\u001b[0m         \u001b[0;32mfor\u001b[0m \u001b[0maxis\u001b[0m\u001b[0;34m,\u001b[0m \u001b[0mlabels\u001b[0m \u001b[0;32min\u001b[0m \u001b[0maxes\u001b[0m\u001b[0;34m.\u001b[0m\u001b[0mitems\u001b[0m\u001b[0;34m(\u001b[0m\u001b[0;34m)\u001b[0m\u001b[0;34m:\u001b[0m\u001b[0;34m\u001b[0m\u001b[0m\n\u001b[1;32m   3935\u001b[0m             \u001b[0;32mif\u001b[0m \u001b[0mlabels\u001b[0m \u001b[0;32mis\u001b[0m \u001b[0;32mnot\u001b[0m \u001b[0;32mNone\u001b[0m\u001b[0;34m:\u001b[0m\u001b[0;34m\u001b[0m\u001b[0m\n\u001b[0;32m-> 3936\u001b[0;31m                 \u001b[0mobj\u001b[0m \u001b[0;34m=\u001b[0m \u001b[0mobj\u001b[0m\u001b[0;34m.\u001b[0m\u001b[0m_drop_axis\u001b[0m\u001b[0;34m(\u001b[0m\u001b[0mlabels\u001b[0m\u001b[0;34m,\u001b[0m \u001b[0maxis\u001b[0m\u001b[0;34m,\u001b[0m \u001b[0mlevel\u001b[0m\u001b[0;34m=\u001b[0m\u001b[0mlevel\u001b[0m\u001b[0;34m,\u001b[0m \u001b[0merrors\u001b[0m\u001b[0;34m=\u001b[0m\u001b[0merrors\u001b[0m\u001b[0;34m)\u001b[0m\u001b[0;34m\u001b[0m\u001b[0m\n\u001b[0m\u001b[1;32m   3937\u001b[0m \u001b[0;34m\u001b[0m\u001b[0m\n\u001b[1;32m   3938\u001b[0m         \u001b[0;32mif\u001b[0m \u001b[0minplace\u001b[0m\u001b[0;34m:\u001b[0m\u001b[0;34m\u001b[0m\u001b[0m\n",
      "\u001b[0;32m/anaconda3/lib/python3.6/site-packages/pandas/core/generic.py\u001b[0m in \u001b[0;36m_drop_axis\u001b[0;34m(self, labels, axis, level, errors)\u001b[0m\n\u001b[1;32m   3968\u001b[0m                 \u001b[0mnew_axis\u001b[0m \u001b[0;34m=\u001b[0m \u001b[0maxis\u001b[0m\u001b[0;34m.\u001b[0m\u001b[0mdrop\u001b[0m\u001b[0;34m(\u001b[0m\u001b[0mlabels\u001b[0m\u001b[0;34m,\u001b[0m \u001b[0mlevel\u001b[0m\u001b[0;34m=\u001b[0m\u001b[0mlevel\u001b[0m\u001b[0;34m,\u001b[0m \u001b[0merrors\u001b[0m\u001b[0;34m=\u001b[0m\u001b[0merrors\u001b[0m\u001b[0;34m)\u001b[0m\u001b[0;34m\u001b[0m\u001b[0m\n\u001b[1;32m   3969\u001b[0m             \u001b[0;32melse\u001b[0m\u001b[0;34m:\u001b[0m\u001b[0;34m\u001b[0m\u001b[0m\n\u001b[0;32m-> 3970\u001b[0;31m                 \u001b[0mnew_axis\u001b[0m \u001b[0;34m=\u001b[0m \u001b[0maxis\u001b[0m\u001b[0;34m.\u001b[0m\u001b[0mdrop\u001b[0m\u001b[0;34m(\u001b[0m\u001b[0mlabels\u001b[0m\u001b[0;34m,\u001b[0m \u001b[0merrors\u001b[0m\u001b[0;34m=\u001b[0m\u001b[0merrors\u001b[0m\u001b[0;34m)\u001b[0m\u001b[0;34m\u001b[0m\u001b[0m\n\u001b[0m\u001b[1;32m   3971\u001b[0m             \u001b[0mresult\u001b[0m \u001b[0;34m=\u001b[0m \u001b[0mself\u001b[0m\u001b[0;34m.\u001b[0m\u001b[0mreindex\u001b[0m\u001b[0;34m(\u001b[0m\u001b[0;34m**\u001b[0m\u001b[0;34m{\u001b[0m\u001b[0maxis_name\u001b[0m\u001b[0;34m:\u001b[0m \u001b[0mnew_axis\u001b[0m\u001b[0;34m}\u001b[0m\u001b[0;34m)\u001b[0m\u001b[0;34m\u001b[0m\u001b[0m\n\u001b[1;32m   3972\u001b[0m \u001b[0;34m\u001b[0m\u001b[0m\n",
      "\u001b[0;32m/anaconda3/lib/python3.6/site-packages/pandas/core/indexes/base.py\u001b[0m in \u001b[0;36mdrop\u001b[0;34m(self, labels, errors)\u001b[0m\n\u001b[1;32m   5015\u001b[0m         \u001b[0;32mif\u001b[0m \u001b[0mmask\u001b[0m\u001b[0;34m.\u001b[0m\u001b[0many\u001b[0m\u001b[0;34m(\u001b[0m\u001b[0;34m)\u001b[0m\u001b[0;34m:\u001b[0m\u001b[0;34m\u001b[0m\u001b[0m\n\u001b[1;32m   5016\u001b[0m             \u001b[0;32mif\u001b[0m \u001b[0merrors\u001b[0m \u001b[0;34m!=\u001b[0m \u001b[0;34m\"ignore\"\u001b[0m\u001b[0;34m:\u001b[0m\u001b[0;34m\u001b[0m\u001b[0m\n\u001b[0;32m-> 5017\u001b[0;31m                 \u001b[0;32mraise\u001b[0m \u001b[0mKeyError\u001b[0m\u001b[0;34m(\u001b[0m\u001b[0;34mf\"{labels[mask]} not found in axis\"\u001b[0m\u001b[0;34m)\u001b[0m\u001b[0;34m\u001b[0m\u001b[0m\n\u001b[0m\u001b[1;32m   5018\u001b[0m             \u001b[0mindexer\u001b[0m \u001b[0;34m=\u001b[0m \u001b[0mindexer\u001b[0m\u001b[0;34m[\u001b[0m\u001b[0;34m~\u001b[0m\u001b[0mmask\u001b[0m\u001b[0;34m]\u001b[0m\u001b[0;34m\u001b[0m\u001b[0m\n\u001b[1;32m   5019\u001b[0m         \u001b[0;32mreturn\u001b[0m \u001b[0mself\u001b[0m\u001b[0;34m.\u001b[0m\u001b[0mdelete\u001b[0m\u001b[0;34m(\u001b[0m\u001b[0mindexer\u001b[0m\u001b[0;34m)\u001b[0m\u001b[0;34m\u001b[0m\u001b[0m\n",
      "\u001b[0;31mKeyError\u001b[0m: \"['visitTime'] not found in axis\""
     ]
    }
   ],
   "source": [
    "df.drop('visitTime', axis=1, inplace=True)"
   ]
  },
  {
   "cell_type": "markdown",
   "metadata": {},
   "source": [
    "# Train test split"
   ]
  },
  {
   "cell_type": "code",
   "execution_count": 67,
   "metadata": {},
   "outputs": [],
   "source": [
    "from sklearn.model_selection import train_test_split"
   ]
  },
  {
   "cell_type": "code",
   "execution_count": 68,
   "metadata": {},
   "outputs": [
    {
     "data": {
      "text/html": [
       "<div>\n",
       "<style scoped>\n",
       "    .dataframe tbody tr th:only-of-type {\n",
       "        vertical-align: middle;\n",
       "    }\n",
       "\n",
       "    .dataframe tbody tr th {\n",
       "        vertical-align: top;\n",
       "    }\n",
       "\n",
       "    .dataframe thead th {\n",
       "        text-align: right;\n",
       "    }\n",
       "</style>\n",
       "<table border=\"1\" class=\"dataframe\">\n",
       "  <thead>\n",
       "    <tr style=\"text-align: right;\">\n",
       "      <th></th>\n",
       "      <th>label</th>\n",
       "      <th>id</th>\n",
       "      <th>purchaseTime</th>\n",
       "      <th>hour</th>\n",
       "      <th>C1</th>\n",
       "      <th>C2</th>\n",
       "      <th>C3</th>\n",
       "      <th>C4</th>\n",
       "      <th>C5</th>\n",
       "      <th>C6</th>\n",
       "      <th>...</th>\n",
       "      <th>N4</th>\n",
       "      <th>N5</th>\n",
       "      <th>N6</th>\n",
       "      <th>N7</th>\n",
       "      <th>N8</th>\n",
       "      <th>N9</th>\n",
       "      <th>N10</th>\n",
       "      <th>C10</th>\n",
       "      <th>C11</th>\n",
       "      <th>C12</th>\n",
       "    </tr>\n",
       "  </thead>\n",
       "  <tbody>\n",
       "    <tr>\n",
       "      <th>0</th>\n",
       "      <td>-1</td>\n",
       "      <td>37</td>\n",
       "      <td>-1</td>\n",
       "      <td>0</td>\n",
       "      <td>2569487005</td>\n",
       "      <td>1830830742</td>\n",
       "      <td>4228834423</td>\n",
       "      <td>652481754</td>\n",
       "      <td>2967512603</td>\n",
       "      <td>3624739744</td>\n",
       "      <td>...</td>\n",
       "      <td>0</td>\n",
       "      <td>0</td>\n",
       "      <td>0</td>\n",
       "      <td>0</td>\n",
       "      <td>0</td>\n",
       "      <td>0</td>\n",
       "      <td>0</td>\n",
       "      <td>419316267</td>\n",
       "      <td>3617851689</td>\n",
       "      <td>4220791646</td>\n",
       "    </tr>\n",
       "    <tr>\n",
       "      <th>1</th>\n",
       "      <td>-1</td>\n",
       "      <td>55</td>\n",
       "      <td>-1</td>\n",
       "      <td>0</td>\n",
       "      <td>3191875643</td>\n",
       "      <td>403381353</td>\n",
       "      <td>1238330876</td>\n",
       "      <td>652481754</td>\n",
       "      <td>2967512603</td>\n",
       "      <td>179712055</td>\n",
       "      <td>...</td>\n",
       "      <td>0</td>\n",
       "      <td>0</td>\n",
       "      <td>0</td>\n",
       "      <td>0</td>\n",
       "      <td>1</td>\n",
       "      <td>0</td>\n",
       "      <td>0</td>\n",
       "      <td>1968545380</td>\n",
       "      <td>3831440054</td>\n",
       "      <td>1213938795</td>\n",
       "    </tr>\n",
       "    <tr>\n",
       "      <th>2</th>\n",
       "      <td>-1</td>\n",
       "      <td>114</td>\n",
       "      <td>-1</td>\n",
       "      <td>0</td>\n",
       "      <td>2634604934</td>\n",
       "      <td>403381353</td>\n",
       "      <td>1928325921</td>\n",
       "      <td>652481754</td>\n",
       "      <td>2967512603</td>\n",
       "      <td>1607619193</td>\n",
       "      <td>...</td>\n",
       "      <td>0</td>\n",
       "      <td>0</td>\n",
       "      <td>0</td>\n",
       "      <td>0</td>\n",
       "      <td>0</td>\n",
       "      <td>0</td>\n",
       "      <td>0</td>\n",
       "      <td>1405802835</td>\n",
       "      <td>2379633508</td>\n",
       "      <td>1284343215</td>\n",
       "    </tr>\n",
       "    <tr>\n",
       "      <th>3</th>\n",
       "      <td>-1</td>\n",
       "      <td>128</td>\n",
       "      <td>-1</td>\n",
       "      <td>0</td>\n",
       "      <td>2569487005</td>\n",
       "      <td>403381353</td>\n",
       "      <td>296915027</td>\n",
       "      <td>652481754</td>\n",
       "      <td>2967512603</td>\n",
       "      <td>10212495</td>\n",
       "      <td>...</td>\n",
       "      <td>0</td>\n",
       "      <td>0</td>\n",
       "      <td>0</td>\n",
       "      <td>0</td>\n",
       "      <td>0</td>\n",
       "      <td>0</td>\n",
       "      <td>0</td>\n",
       "      <td>2299319102</td>\n",
       "      <td>3617851689</td>\n",
       "      <td>4220791646</td>\n",
       "    </tr>\n",
       "    <tr>\n",
       "      <th>4</th>\n",
       "      <td>-1</td>\n",
       "      <td>164</td>\n",
       "      <td>-1</td>\n",
       "      <td>0</td>\n",
       "      <td>2569487005</td>\n",
       "      <td>403381353</td>\n",
       "      <td>681762206</td>\n",
       "      <td>652481754</td>\n",
       "      <td>2967512603</td>\n",
       "      <td>580883881</td>\n",
       "      <td>...</td>\n",
       "      <td>0</td>\n",
       "      <td>0</td>\n",
       "      <td>0</td>\n",
       "      <td>0</td>\n",
       "      <td>0</td>\n",
       "      <td>0</td>\n",
       "      <td>0</td>\n",
       "      <td>1306075469</td>\n",
       "      <td>3617851689</td>\n",
       "      <td>4220791646</td>\n",
       "    </tr>\n",
       "  </tbody>\n",
       "</table>\n",
       "<p>5 rows × 26 columns</p>\n",
       "</div>"
      ],
      "text/plain": [
       "   label   id  purchaseTime  hour          C1          C2          C3  \\\n",
       "0     -1   37            -1     0  2569487005  1830830742  4228834423   \n",
       "1     -1   55            -1     0  3191875643   403381353  1238330876   \n",
       "2     -1  114            -1     0  2634604934   403381353  1928325921   \n",
       "3     -1  128            -1     0  2569487005   403381353   296915027   \n",
       "4     -1  164            -1     0  2569487005   403381353   681762206   \n",
       "\n",
       "          C4          C5          C6  ...  N4  N5  N6  N7  N8  N9  N10  \\\n",
       "0  652481754  2967512603  3624739744  ...   0   0   0   0   0   0    0   \n",
       "1  652481754  2967512603   179712055  ...   0   0   0   0   1   0    0   \n",
       "2  652481754  2967512603  1607619193  ...   0   0   0   0   0   0    0   \n",
       "3  652481754  2967512603    10212495  ...   0   0   0   0   0   0    0   \n",
       "4  652481754  2967512603   580883881  ...   0   0   0   0   0   0    0   \n",
       "\n",
       "          C10         C11         C12  \n",
       "0   419316267  3617851689  4220791646  \n",
       "1  1968545380  3831440054  1213938795  \n",
       "2  1405802835  2379633508  1284343215  \n",
       "3  2299319102  3617851689  4220791646  \n",
       "4  1306075469  3617851689  4220791646  \n",
       "\n",
       "[5 rows x 26 columns]"
      ]
     },
     "execution_count": 68,
     "metadata": {},
     "output_type": "execute_result"
    }
   ],
   "source": [
    "df.head()"
   ]
  },
  {
   "cell_type": "code",
   "execution_count": 69,
   "metadata": {},
   "outputs": [],
   "source": [
    "X = df[df.columns.difference(['label'])]\n",
    "y = df['label']"
   ]
  },
  {
   "cell_type": "code",
   "execution_count": 70,
   "metadata": {},
   "outputs": [],
   "source": [
    "X_train, X_test, y_train, y_test = train_test_split(X, y, random_state = 101, test_size = 0.33, stratify = y)"
   ]
  },
  {
   "cell_type": "markdown",
   "metadata": {},
   "source": [
    "Oversample minority class and undersample majority class"
   ]
  },
  {
   "cell_type": "code",
   "execution_count": 71,
   "metadata": {},
   "outputs": [
    {
     "name": "stdout",
     "output_type": "stream",
     "text": [
      "Counter({0: 9900, 1: 100})\n"
     ]
    }
   ],
   "source": [
    "# Oversample with SMOTE and random undersample for imbalanced dataset\n",
    "from collections import Counter\n",
    "from sklearn.datasets import make_classification\n",
    "from imblearn.over_sampling import SMOTE\n",
    "from imblearn.under_sampling import RandomUnderSampler\n",
    "from imblearn.pipeline import Pipeline\n",
    "from matplotlib import pyplot\n",
    "from numpy import where\n",
    "# define dataset\n",
    "X, y = make_classification(n_samples=10000, n_features=2, n_redundant=0,\n",
    "\tn_clusters_per_class=1, weights=[0.99], flip_y=0, random_state=1)\n",
    "print(Counter(y))"
   ]
  },
  {
   "cell_type": "code",
   "execution_count": 72,
   "metadata": {},
   "outputs": [
    {
     "name": "stdout",
     "output_type": "stream",
     "text": [
      "Counter({0: 9900, 1: 100})\n"
     ]
    }
   ],
   "source": [
    "# summarize class distribution\n",
    "counter = Counter(y)\n",
    "print(counter)"
   ]
  },
  {
   "cell_type": "code",
   "execution_count": 73,
   "metadata": {},
   "outputs": [],
   "source": [
    "# define pipeline\n",
    "over = SMOTE()"
   ]
  },
  {
   "cell_type": "code",
   "execution_count": 74,
   "metadata": {},
   "outputs": [],
   "source": [
    "under = RandomUnderSampler()\n",
    "steps = [('o', over), ('u', under)]\n",
    "pipeline = Pipeline(steps=steps)"
   ]
  },
  {
   "cell_type": "code",
   "execution_count": 75,
   "metadata": {},
   "outputs": [
    {
     "name": "stdout",
     "output_type": "stream",
     "text": [
      "Counter({0: 9900, 1: 9900})\n"
     ]
    },
    {
     "data": {
      "image/png": "[encoded data removed]",
      "text/plain": [
       "<matplotlib.figure.Figure at 0x12b622b38>"
      ]
     },
     "metadata": {},
     "output_type": "display_data"
    }
   ],
   "source": [
    "# transform the dataset\n",
    "X, y = pipeline.fit_resample(X, y)\n",
    "# summarize the new class distribution\n",
    "counter = Counter(y)\n",
    "print(counter)\n",
    "# scatter plot of examples by class label\n",
    "for label, _ in counter.items():\n",
    "\trow_ix = where(y == label)[0]\n",
    "\tpyplot.scatter(X[row_ix, 0], X[row_ix, 1], label=str(label))\n",
    "pyplot.legend()\n",
    "pyplot.show()"
   ]
  },
  {
   "cell_type": "code",
   "execution_count": 76,
   "metadata": {},
   "outputs": [
    {
     "name": "stdout",
     "output_type": "stream",
     "text": [
      "Counter({0: 9900, 1: 9900})\n"
     ]
    }
   ],
   "source": [
    "# summarize the new class distribution\n",
    "counter = Counter(y)\n",
    "print(counter)"
   ]
  },
  {
   "cell_type": "markdown",
   "metadata": {},
   "source": [
    "Standardizing features"
   ]
  },
  {
   "cell_type": "code",
   "execution_count": 77,
   "metadata": {},
   "outputs": [],
   "source": [
    "from sklearn.preprocessing import StandardScaler"
   ]
  },
  {
   "cell_type": "code",
   "execution_count": 78,
   "metadata": {},
   "outputs": [],
   "source": [
    "sc = StandardScaler()\n",
    "X_train_std = sc.fit_transform(X_train)\n",
    "X_test_std = sc.fit_transform(X_test)"
   ]
  },
  {
   "cell_type": "markdown",
   "metadata": {},
   "source": [
    "# Model 1: Logistic Regression"
   ]
  },
  {
   "cell_type": "markdown",
   "metadata": {},
   "source": [
    "We search for the best C parameter with Lasso Regularization to avoid overfitting"
   ]
  },
  {
   "cell_type": "code",
   "execution_count": 79,
   "metadata": {},
   "outputs": [],
   "source": [
    "from sklearn.linear_model import LogisticRegression"
   ]
  },
  {
   "cell_type": "code",
   "execution_count": 80,
   "metadata": {},
   "outputs": [],
   "source": [
    "C = [10, 1, .1, .001]"
   ]
  },
  {
   "cell_type": "code",
   "execution_count": 81,
   "metadata": {},
   "outputs": [
    {
     "name": "stdout",
     "output_type": "stream",
     "text": [
      "C: 10\n",
      "Training accuracy: 0.5066489361702128\n",
      "Test accuracy: 0.5078094870806016\n",
      "\n",
      "C: 1\n",
      "Training accuracy: 0.5053191489361702\n",
      "Test accuracy: 0.5064596991901272\n",
      "\n",
      "C: 0.1\n",
      "Training accuracy: 0.5130129179331308\n",
      "Test accuracy: 0.5151369070574624\n",
      "\n",
      "C: 0.001\n",
      "Training accuracy: 0.679426291793313\n",
      "Test accuracy: 0.684053220208253\n",
      "\n"
     ]
    }
   ],
   "source": [
    "for c in C:\n",
    "    clf = LogisticRegression(penalty='l1', C=c, solver='liblinear')\n",
    "    clf.fit(X_train, y_train)\n",
    "    print('C:', c)\n",
    "    print('Training accuracy:', clf.score(X_train_std, y_train))\n",
    "    print('Test accuracy:', clf.score(X_test_std, y_test))\n",
    "    print('')"
   ]
  },
  {
   "cell_type": "markdown",
   "metadata": {},
   "source": [
    "We can now use the C parameter with the best result (C=0.001) for the training set (because this is already oversampled)"
   ]
  },
  {
   "cell_type": "code",
   "execution_count": 82,
   "metadata": {},
   "outputs": [
    {
     "data": {
      "text/plain": [
       "LogisticRegression(C=0.001, class_weight=None, dual=False, fit_intercept=True,\n",
       "                   intercept_scaling=1, l1_ratio=None, max_iter=100,\n",
       "                   multi_class='auto', n_jobs=None, penalty='l1',\n",
       "                   random_state=None, solver='liblinear', tol=0.0001, verbose=0,\n",
       "                   warm_start=False)"
      ]
     },
     "execution_count": 82,
     "metadata": {},
     "output_type": "execute_result"
    }
   ],
   "source": [
    "LR_model = LogisticRegression(penalty='l1', C=0.001, solver='liblinear')\n",
    "LR_model.fit(X_train, y_train)"
   ]
  },
  {
   "cell_type": "code",
   "execution_count": 83,
   "metadata": {},
   "outputs": [],
   "source": [
    "y_pred_LR = LR_model.predict(X_test)"
   ]
  },
  {
   "cell_type": "code",
   "execution_count": 84,
   "metadata": {},
   "outputs": [
    {
     "data": {
      "text/plain": [
       "C1              10372\n",
       "C10             10372\n",
       "C11             10372\n",
       "C12             10372\n",
       "C2              10372\n",
       "C3              10372\n",
       "C4              10372\n",
       "C5              10372\n",
       "C6              10372\n",
       "C7              10372\n",
       "C8              10372\n",
       "C9              10372\n",
       "N1              10372\n",
       "N10             10372\n",
       "N2              10372\n",
       "N3              10372\n",
       "N4              10372\n",
       "N5              10372\n",
       "N6              10372\n",
       "N7              10372\n",
       "N8              10372\n",
       "N9              10372\n",
       "hour            10372\n",
       "id              10372\n",
       "purchaseTime    10372\n",
       "dtype: int64"
      ]
     },
     "execution_count": 84,
     "metadata": {},
     "output_type": "execute_result"
    }
   ],
   "source": [
    "X_test.count()"
   ]
  },
  {
   "cell_type": "code",
   "execution_count": 85,
   "metadata": {},
   "outputs": [],
   "source": [
    "y_prob_LR = LR_model.predict_proba(X_test)"
   ]
  },
  {
   "cell_type": "code",
   "execution_count": 86,
   "metadata": {},
   "outputs": [],
   "source": [
    "from sklearn.metrics import classification_report, confusion_matrix, roc_auc_score"
   ]
  },
  {
   "cell_type": "code",
   "execution_count": 87,
   "metadata": {},
   "outputs": [
    {
     "name": "stdout",
     "output_type": "stream",
     "text": [
      "              precision    recall  f1-score   support\n",
      "\n",
      "          -1       1.00      1.00      1.00     10353\n",
      "           1       1.00      1.00      1.00        19\n",
      "\n",
      "    accuracy                           1.00     10372\n",
      "   macro avg       1.00      1.00      1.00     10372\n",
      "weighted avg       1.00      1.00      1.00     10372\n",
      "\n"
     ]
    }
   ],
   "source": [
    "print(classification_report(y_test,y_pred_LR))"
   ]
  },
  {
   "cell_type": "code",
   "execution_count": 88,
   "metadata": {},
   "outputs": [
    {
     "data": {
      "text/plain": [
       "array([[10353,     0],\n",
       "       [    0,    19]])"
      ]
     },
     "execution_count": 88,
     "metadata": {},
     "output_type": "execute_result"
    }
   ],
   "source": [
    "confusion_matrix(y_test, y_pred_LR)"
   ]
  },
  {
   "cell_type": "code",
   "execution_count": 89,
   "metadata": {},
   "outputs": [
    {
     "data": {
      "text/plain": [
       "1.0"
      ]
     },
     "execution_count": 89,
     "metadata": {},
     "output_type": "execute_result"
    }
   ],
   "source": [
    "roc_auc_score(y_test, y_pred_LR)"
   ]
  },
  {
   "cell_type": "markdown",
   "metadata": {},
   "source": [
    "# Model 2: Random Forest"
   ]
  },
  {
   "cell_type": "code",
   "execution_count": 90,
   "metadata": {},
   "outputs": [],
   "source": [
    "from sklearn.ensemble import RandomForestClassifier"
   ]
  },
  {
   "cell_type": "code",
   "execution_count": 91,
   "metadata": {},
   "outputs": [],
   "source": [
    "RF_model = RandomForestClassifier(n_estimators=60)"
   ]
  },
  {
   "cell_type": "code",
   "execution_count": 92,
   "metadata": {},
   "outputs": [
    {
     "data": {
      "text/plain": [
       "RandomForestClassifier(bootstrap=True, ccp_alpha=0.0, class_weight=None,\n",
       "                       criterion='gini', max_depth=None, max_features='auto',\n",
       "                       max_leaf_nodes=None, max_samples=None,\n",
       "                       min_impurity_decrease=0.0, min_impurity_split=None,\n",
       "                       min_samples_leaf=1, min_samples_split=2,\n",
       "                       min_weight_fraction_leaf=0.0, n_estimators=60,\n",
       "                       n_jobs=None, oob_score=False, random_state=None,\n",
       "                       verbose=0, warm_start=False)"
      ]
     },
     "execution_count": 92,
     "metadata": {},
     "output_type": "execute_result"
    }
   ],
   "source": [
    "RF_model.fit(X_train, y_train)"
   ]
  },
  {
   "cell_type": "code",
   "execution_count": 93,
   "metadata": {},
   "outputs": [],
   "source": [
    "y_pred_RF = RF_model.predict(X_test) # output as class label"
   ]
  },
  {
   "cell_type": "code",
   "execution_count": 94,
   "metadata": {},
   "outputs": [],
   "source": [
    "y_prob_RF = RF_model.predict_proba(X_test) # output as probability"
   ]
  },
  {
   "cell_type": "code",
   "execution_count": 95,
   "metadata": {},
   "outputs": [
    {
     "name": "stdout",
     "output_type": "stream",
     "text": [
      "              precision    recall  f1-score   support\n",
      "\n",
      "          -1       1.00      1.00      1.00     10353\n",
      "           1       1.00      1.00      1.00        19\n",
      "\n",
      "    accuracy                           1.00     10372\n",
      "   macro avg       1.00      1.00      1.00     10372\n",
      "weighted avg       1.00      1.00      1.00     10372\n",
      "\n"
     ]
    }
   ],
   "source": [
    "print(classification_report(y_test,y_pred_RF))"
   ]
  },
  {
   "cell_type": "code",
   "execution_count": 96,
   "metadata": {},
   "outputs": [
    {
     "data": {
      "text/plain": [
       "1.0"
      ]
     },
     "execution_count": 96,
     "metadata": {},
     "output_type": "execute_result"
    }
   ],
   "source": [
    "roc_auc_score(y_test, y_pred_RF)"
   ]
  },
  {
   "cell_type": "markdown",
   "metadata": {},
   "source": [
    "We can see that the Logistic REgression model produced the higher AUC score. Therefore, we will use this model to deploy to our testing set."
   ]
  },
  {
   "cell_type": "markdown",
   "metadata": {},
   "source": [
    "# Deploying model on Testing Dataset"
   ]
  },
  {
   "cell_type": "code",
   "execution_count": 156,
   "metadata": {},
   "outputs": [],
   "source": [
    "df_test = pd.read_csv('test.csv')"
   ]
  },
  {
   "cell_type": "code",
   "execution_count": 157,
   "metadata": {},
   "outputs": [],
   "source": [
    "df_test.drop(['visitTime','label'], axis=1, inplace=True)"
   ]
  },
  {
   "cell_type": "code",
   "execution_count": 158,
   "metadata": {},
   "outputs": [
    {
     "data": {
      "text/html": [
       "<div>\n",
       "<style scoped>\n",
       "    .dataframe tbody tr th:only-of-type {\n",
       "        vertical-align: middle;\n",
       "    }\n",
       "\n",
       "    .dataframe tbody tr th {\n",
       "        vertical-align: top;\n",
       "    }\n",
       "\n",
       "    .dataframe thead th {\n",
       "        text-align: right;\n",
       "    }\n",
       "</style>\n",
       "<table border=\"1\" class=\"dataframe\">\n",
       "  <thead>\n",
       "    <tr style=\"text-align: right;\">\n",
       "      <th></th>\n",
       "      <th>id</th>\n",
       "      <th>purchaseTime</th>\n",
       "      <th>hour</th>\n",
       "      <th>C1</th>\n",
       "      <th>C2</th>\n",
       "      <th>C3</th>\n",
       "      <th>C4</th>\n",
       "      <th>C5</th>\n",
       "      <th>C6</th>\n",
       "      <th>C7</th>\n",
       "      <th>...</th>\n",
       "      <th>N4</th>\n",
       "      <th>N5</th>\n",
       "      <th>N6</th>\n",
       "      <th>N7</th>\n",
       "      <th>N8</th>\n",
       "      <th>N9</th>\n",
       "      <th>N10</th>\n",
       "      <th>C10</th>\n",
       "      <th>C11</th>\n",
       "      <th>C12</th>\n",
       "    </tr>\n",
       "  </thead>\n",
       "  <tbody>\n",
       "    <tr>\n",
       "      <th>0</th>\n",
       "      <td>1</td>\n",
       "      <td>-1</td>\n",
       "      <td>0</td>\n",
       "      <td>2569487005</td>\n",
       "      <td>403381353</td>\n",
       "      <td>681762206</td>\n",
       "      <td>652481754</td>\n",
       "      <td>2967512603</td>\n",
       "      <td>580883881</td>\n",
       "      <td>2303407174</td>\n",
       "      <td>...</td>\n",
       "      <td>0</td>\n",
       "      <td>0</td>\n",
       "      <td>0</td>\n",
       "      <td>0</td>\n",
       "      <td>0</td>\n",
       "      <td>0</td>\n",
       "      <td>0</td>\n",
       "      <td>2128770044</td>\n",
       "      <td>3617851689</td>\n",
       "      <td>4220791646</td>\n",
       "    </tr>\n",
       "    <tr>\n",
       "      <th>1</th>\n",
       "      <td>2</td>\n",
       "      <td>-1</td>\n",
       "      <td>0</td>\n",
       "      <td>2416811818</td>\n",
       "      <td>1235983246</td>\n",
       "      <td>3653557526</td>\n",
       "      <td>652481754</td>\n",
       "      <td>2116767313</td>\n",
       "      <td>571765677</td>\n",
       "      <td>2303407174</td>\n",
       "      <td>...</td>\n",
       "      <td>0</td>\n",
       "      <td>0</td>\n",
       "      <td>0</td>\n",
       "      <td>0</td>\n",
       "      <td>0</td>\n",
       "      <td>0</td>\n",
       "      <td>0</td>\n",
       "      <td>4256459078</td>\n",
       "      <td>2379633508</td>\n",
       "      <td>1284343215</td>\n",
       "    </tr>\n",
       "    <tr>\n",
       "      <th>2</th>\n",
       "      <td>3</td>\n",
       "      <td>-1</td>\n",
       "      <td>0</td>\n",
       "      <td>3765056181</td>\n",
       "      <td>1235983246</td>\n",
       "      <td>1310333812</td>\n",
       "      <td>652481754</td>\n",
       "      <td>2116767313</td>\n",
       "      <td>571765677</td>\n",
       "      <td>2303407174</td>\n",
       "      <td>...</td>\n",
       "      <td>0</td>\n",
       "      <td>0</td>\n",
       "      <td>0</td>\n",
       "      <td>0</td>\n",
       "      <td>0</td>\n",
       "      <td>0</td>\n",
       "      <td>0</td>\n",
       "      <td>2840358457</td>\n",
       "      <td>3831440054</td>\n",
       "      <td>1213938795</td>\n",
       "    </tr>\n",
       "    <tr>\n",
       "      <th>3</th>\n",
       "      <td>4</td>\n",
       "      <td>-1</td>\n",
       "      <td>0</td>\n",
       "      <td>955802445</td>\n",
       "      <td>403381353</td>\n",
       "      <td>2290282995</td>\n",
       "      <td>652481754</td>\n",
       "      <td>2967512603</td>\n",
       "      <td>1607619193</td>\n",
       "      <td>1342367140</td>\n",
       "      <td>...</td>\n",
       "      <td>0</td>\n",
       "      <td>0</td>\n",
       "      <td>0</td>\n",
       "      <td>0</td>\n",
       "      <td>0</td>\n",
       "      <td>0</td>\n",
       "      <td>0</td>\n",
       "      <td>4039873369</td>\n",
       "      <td>535829057</td>\n",
       "      <td>3828748840</td>\n",
       "    </tr>\n",
       "    <tr>\n",
       "      <th>4</th>\n",
       "      <td>5</td>\n",
       "      <td>-1</td>\n",
       "      <td>0</td>\n",
       "      <td>2569487005</td>\n",
       "      <td>2517724481</td>\n",
       "      <td>2463986301</td>\n",
       "      <td>2308170622</td>\n",
       "      <td>2967512603</td>\n",
       "      <td>580883881</td>\n",
       "      <td>2303407174</td>\n",
       "      <td>...</td>\n",
       "      <td>0</td>\n",
       "      <td>0</td>\n",
       "      <td>0</td>\n",
       "      <td>0</td>\n",
       "      <td>0</td>\n",
       "      <td>0</td>\n",
       "      <td>0</td>\n",
       "      <td>907610626</td>\n",
       "      <td>3617851689</td>\n",
       "      <td>4220791646</td>\n",
       "    </tr>\n",
       "    <tr>\n",
       "      <th>...</th>\n",
       "      <td>...</td>\n",
       "      <td>...</td>\n",
       "      <td>...</td>\n",
       "      <td>...</td>\n",
       "      <td>...</td>\n",
       "      <td>...</td>\n",
       "      <td>...</td>\n",
       "      <td>...</td>\n",
       "      <td>...</td>\n",
       "      <td>...</td>\n",
       "      <td>...</td>\n",
       "      <td>...</td>\n",
       "      <td>...</td>\n",
       "      <td>...</td>\n",
       "      <td>...</td>\n",
       "      <td>...</td>\n",
       "      <td>...</td>\n",
       "      <td>...</td>\n",
       "      <td>...</td>\n",
       "      <td>...</td>\n",
       "      <td>...</td>\n",
       "    </tr>\n",
       "    <tr>\n",
       "      <th>32081</th>\n",
       "      <td>32082</td>\n",
       "      <td>-1</td>\n",
       "      <td>23</td>\n",
       "      <td>2569487005</td>\n",
       "      <td>2018710401</td>\n",
       "      <td>887116886</td>\n",
       "      <td>652481754</td>\n",
       "      <td>2967512603</td>\n",
       "      <td>3624739744</td>\n",
       "      <td>2303407174</td>\n",
       "      <td>...</td>\n",
       "      <td>0</td>\n",
       "      <td>0</td>\n",
       "      <td>0</td>\n",
       "      <td>0</td>\n",
       "      <td>0</td>\n",
       "      <td>0</td>\n",
       "      <td>0</td>\n",
       "      <td>1546561973</td>\n",
       "      <td>3617851689</td>\n",
       "      <td>4220791646</td>\n",
       "    </tr>\n",
       "    <tr>\n",
       "      <th>32082</th>\n",
       "      <td>32083</td>\n",
       "      <td>-1</td>\n",
       "      <td>23</td>\n",
       "      <td>2569487005</td>\n",
       "      <td>403381353</td>\n",
       "      <td>3475347077</td>\n",
       "      <td>652481754</td>\n",
       "      <td>2967512603</td>\n",
       "      <td>4013717548</td>\n",
       "      <td>2303407174</td>\n",
       "      <td>...</td>\n",
       "      <td>0</td>\n",
       "      <td>0</td>\n",
       "      <td>0</td>\n",
       "      <td>0</td>\n",
       "      <td>0</td>\n",
       "      <td>0</td>\n",
       "      <td>0</td>\n",
       "      <td>3227742820</td>\n",
       "      <td>3617851689</td>\n",
       "      <td>4220791646</td>\n",
       "    </tr>\n",
       "    <tr>\n",
       "      <th>32083</th>\n",
       "      <td>32084</td>\n",
       "      <td>-1</td>\n",
       "      <td>23</td>\n",
       "      <td>2569487005</td>\n",
       "      <td>403381353</td>\n",
       "      <td>3475347077</td>\n",
       "      <td>652481754</td>\n",
       "      <td>2967512603</td>\n",
       "      <td>4013717548</td>\n",
       "      <td>2303407174</td>\n",
       "      <td>...</td>\n",
       "      <td>0</td>\n",
       "      <td>0</td>\n",
       "      <td>0</td>\n",
       "      <td>0</td>\n",
       "      <td>0</td>\n",
       "      <td>0</td>\n",
       "      <td>0</td>\n",
       "      <td>4069315994</td>\n",
       "      <td>3617851689</td>\n",
       "      <td>4220791646</td>\n",
       "    </tr>\n",
       "    <tr>\n",
       "      <th>32084</th>\n",
       "      <td>32085</td>\n",
       "      <td>-1</td>\n",
       "      <td>23</td>\n",
       "      <td>2569487005</td>\n",
       "      <td>2541203883</td>\n",
       "      <td>448895441</td>\n",
       "      <td>2308170622</td>\n",
       "      <td>2967512603</td>\n",
       "      <td>3624739744</td>\n",
       "      <td>2303407174</td>\n",
       "      <td>...</td>\n",
       "      <td>0</td>\n",
       "      <td>0</td>\n",
       "      <td>0</td>\n",
       "      <td>0</td>\n",
       "      <td>0</td>\n",
       "      <td>0</td>\n",
       "      <td>0</td>\n",
       "      <td>2724771230</td>\n",
       "      <td>3617851689</td>\n",
       "      <td>4220791646</td>\n",
       "    </tr>\n",
       "    <tr>\n",
       "      <th>32085</th>\n",
       "      <td>32086</td>\n",
       "      <td>-1</td>\n",
       "      <td>23</td>\n",
       "      <td>2569487005</td>\n",
       "      <td>403381353</td>\n",
       "      <td>2294620541</td>\n",
       "      <td>652481754</td>\n",
       "      <td>2967512603</td>\n",
       "      <td>3624739744</td>\n",
       "      <td>2303407174</td>\n",
       "      <td>...</td>\n",
       "      <td>0</td>\n",
       "      <td>0</td>\n",
       "      <td>0</td>\n",
       "      <td>0</td>\n",
       "      <td>0</td>\n",
       "      <td>0</td>\n",
       "      <td>0</td>\n",
       "      <td>2151556883</td>\n",
       "      <td>3617851689</td>\n",
       "      <td>4220791646</td>\n",
       "    </tr>\n",
       "  </tbody>\n",
       "</table>\n",
       "<p>32086 rows × 25 columns</p>\n",
       "</div>"
      ],
      "text/plain": [
       "          id  purchaseTime  hour          C1          C2          C3  \\\n",
       "0          1            -1     0  2569487005   403381353   681762206   \n",
       "1          2            -1     0  2416811818  1235983246  3653557526   \n",
       "2          3            -1     0  3765056181  1235983246  1310333812   \n",
       "3          4            -1     0   955802445   403381353  2290282995   \n",
       "4          5            -1     0  2569487005  2517724481  2463986301   \n",
       "...      ...           ...   ...         ...         ...         ...   \n",
       "32081  32082            -1    23  2569487005  2018710401   887116886   \n",
       "32082  32083            -1    23  2569487005   403381353  3475347077   \n",
       "32083  32084            -1    23  2569487005   403381353  3475347077   \n",
       "32084  32085            -1    23  2569487005  2541203883   448895441   \n",
       "32085  32086            -1    23  2569487005   403381353  2294620541   \n",
       "\n",
       "               C4          C5          C6          C7  ...  N4  N5  N6  N7  \\\n",
       "0       652481754  2967512603   580883881  2303407174  ...   0   0   0   0   \n",
       "1       652481754  2116767313   571765677  2303407174  ...   0   0   0   0   \n",
       "2       652481754  2116767313   571765677  2303407174  ...   0   0   0   0   \n",
       "3       652481754  2967512603  1607619193  1342367140  ...   0   0   0   0   \n",
       "4      2308170622  2967512603   580883881  2303407174  ...   0   0   0   0   \n",
       "...           ...         ...         ...         ...  ...  ..  ..  ..  ..   \n",
       "32081   652481754  2967512603  3624739744  2303407174  ...   0   0   0   0   \n",
       "32082   652481754  2967512603  4013717548  2303407174  ...   0   0   0   0   \n",
       "32083   652481754  2967512603  4013717548  2303407174  ...   0   0   0   0   \n",
       "32084  2308170622  2967512603  3624739744  2303407174  ...   0   0   0   0   \n",
       "32085   652481754  2967512603  3624739744  2303407174  ...   0   0   0   0   \n",
       "\n",
       "       N8  N9  N10         C10         C11         C12  \n",
       "0       0   0    0  2128770044  3617851689  4220791646  \n",
       "1       0   0    0  4256459078  2379633508  1284343215  \n",
       "2       0   0    0  2840358457  3831440054  1213938795  \n",
       "3       0   0    0  4039873369   535829057  3828748840  \n",
       "4       0   0    0   907610626  3617851689  4220791646  \n",
       "...    ..  ..  ...         ...         ...         ...  \n",
       "32081   0   0    0  1546561973  3617851689  4220791646  \n",
       "32082   0   0    0  3227742820  3617851689  4220791646  \n",
       "32083   0   0    0  4069315994  3617851689  4220791646  \n",
       "32084   0   0    0  2724771230  3617851689  4220791646  \n",
       "32085   0   0    0  2151556883  3617851689  4220791646  \n",
       "\n",
       "[32086 rows x 25 columns]"
      ]
     },
     "execution_count": 158,
     "metadata": {},
     "output_type": "execute_result"
    }
   ],
   "source": [
    "df_test"
   ]
  },
  {
   "cell_type": "code",
   "execution_count": 159,
   "metadata": {},
   "outputs": [],
   "source": [
    "final_id = df_test['id']"
   ]
  },
  {
   "cell_type": "code",
   "execution_count": 160,
   "metadata": {},
   "outputs": [
    {
     "data": {
      "text/html": [
       "<div>\n",
       "<style scoped>\n",
       "    .dataframe tbody tr th:only-of-type {\n",
       "        vertical-align: middle;\n",
       "    }\n",
       "\n",
       "    .dataframe tbody tr th {\n",
       "        vertical-align: top;\n",
       "    }\n",
       "\n",
       "    .dataframe thead th {\n",
       "        text-align: right;\n",
       "    }\n",
       "</style>\n",
       "<table border=\"1\" class=\"dataframe\">\n",
       "  <thead>\n",
       "    <tr style=\"text-align: right;\">\n",
       "      <th></th>\n",
       "      <th>id</th>\n",
       "      <th>purchaseTime</th>\n",
       "      <th>hour</th>\n",
       "      <th>C1</th>\n",
       "      <th>C2</th>\n",
       "      <th>C3</th>\n",
       "      <th>C4</th>\n",
       "      <th>C5</th>\n",
       "      <th>C6</th>\n",
       "      <th>C7</th>\n",
       "      <th>...</th>\n",
       "      <th>N4</th>\n",
       "      <th>N5</th>\n",
       "      <th>N6</th>\n",
       "      <th>N7</th>\n",
       "      <th>N8</th>\n",
       "      <th>N9</th>\n",
       "      <th>N10</th>\n",
       "      <th>C10</th>\n",
       "      <th>C11</th>\n",
       "      <th>C12</th>\n",
       "    </tr>\n",
       "  </thead>\n",
       "  <tbody>\n",
       "    <tr>\n",
       "      <th>0</th>\n",
       "      <td>1</td>\n",
       "      <td>-1</td>\n",
       "      <td>0</td>\n",
       "      <td>2569487005</td>\n",
       "      <td>403381353</td>\n",
       "      <td>681762206</td>\n",
       "      <td>652481754</td>\n",
       "      <td>2967512603</td>\n",
       "      <td>580883881</td>\n",
       "      <td>2303407174</td>\n",
       "      <td>...</td>\n",
       "      <td>0</td>\n",
       "      <td>0</td>\n",
       "      <td>0</td>\n",
       "      <td>0</td>\n",
       "      <td>0</td>\n",
       "      <td>0</td>\n",
       "      <td>0</td>\n",
       "      <td>2128770044</td>\n",
       "      <td>3617851689</td>\n",
       "      <td>4220791646</td>\n",
       "    </tr>\n",
       "    <tr>\n",
       "      <th>1</th>\n",
       "      <td>2</td>\n",
       "      <td>-1</td>\n",
       "      <td>0</td>\n",
       "      <td>2416811818</td>\n",
       "      <td>1235983246</td>\n",
       "      <td>3653557526</td>\n",
       "      <td>652481754</td>\n",
       "      <td>2116767313</td>\n",
       "      <td>571765677</td>\n",
       "      <td>2303407174</td>\n",
       "      <td>...</td>\n",
       "      <td>0</td>\n",
       "      <td>0</td>\n",
       "      <td>0</td>\n",
       "      <td>0</td>\n",
       "      <td>0</td>\n",
       "      <td>0</td>\n",
       "      <td>0</td>\n",
       "      <td>4256459078</td>\n",
       "      <td>2379633508</td>\n",
       "      <td>1284343215</td>\n",
       "    </tr>\n",
       "    <tr>\n",
       "      <th>2</th>\n",
       "      <td>3</td>\n",
       "      <td>-1</td>\n",
       "      <td>0</td>\n",
       "      <td>3765056181</td>\n",
       "      <td>1235983246</td>\n",
       "      <td>1310333812</td>\n",
       "      <td>652481754</td>\n",
       "      <td>2116767313</td>\n",
       "      <td>571765677</td>\n",
       "      <td>2303407174</td>\n",
       "      <td>...</td>\n",
       "      <td>0</td>\n",
       "      <td>0</td>\n",
       "      <td>0</td>\n",
       "      <td>0</td>\n",
       "      <td>0</td>\n",
       "      <td>0</td>\n",
       "      <td>0</td>\n",
       "      <td>2840358457</td>\n",
       "      <td>3831440054</td>\n",
       "      <td>1213938795</td>\n",
       "    </tr>\n",
       "    <tr>\n",
       "      <th>3</th>\n",
       "      <td>4</td>\n",
       "      <td>-1</td>\n",
       "      <td>0</td>\n",
       "      <td>955802445</td>\n",
       "      <td>403381353</td>\n",
       "      <td>2290282995</td>\n",
       "      <td>652481754</td>\n",
       "      <td>2967512603</td>\n",
       "      <td>1607619193</td>\n",
       "      <td>1342367140</td>\n",
       "      <td>...</td>\n",
       "      <td>0</td>\n",
       "      <td>0</td>\n",
       "      <td>0</td>\n",
       "      <td>0</td>\n",
       "      <td>0</td>\n",
       "      <td>0</td>\n",
       "      <td>0</td>\n",
       "      <td>4039873369</td>\n",
       "      <td>535829057</td>\n",
       "      <td>3828748840</td>\n",
       "    </tr>\n",
       "    <tr>\n",
       "      <th>4</th>\n",
       "      <td>5</td>\n",
       "      <td>-1</td>\n",
       "      <td>0</td>\n",
       "      <td>2569487005</td>\n",
       "      <td>2517724481</td>\n",
       "      <td>2463986301</td>\n",
       "      <td>2308170622</td>\n",
       "      <td>2967512603</td>\n",
       "      <td>580883881</td>\n",
       "      <td>2303407174</td>\n",
       "      <td>...</td>\n",
       "      <td>0</td>\n",
       "      <td>0</td>\n",
       "      <td>0</td>\n",
       "      <td>0</td>\n",
       "      <td>0</td>\n",
       "      <td>0</td>\n",
       "      <td>0</td>\n",
       "      <td>907610626</td>\n",
       "      <td>3617851689</td>\n",
       "      <td>4220791646</td>\n",
       "    </tr>\n",
       "  </tbody>\n",
       "</table>\n",
       "<p>5 rows × 25 columns</p>\n",
       "</div>"
      ],
      "text/plain": [
       "   id  purchaseTime  hour          C1          C2          C3          C4  \\\n",
       "0   1            -1     0  2569487005   403381353   681762206   652481754   \n",
       "1   2            -1     0  2416811818  1235983246  3653557526   652481754   \n",
       "2   3            -1     0  3765056181  1235983246  1310333812   652481754   \n",
       "3   4            -1     0   955802445   403381353  2290282995   652481754   \n",
       "4   5            -1     0  2569487005  2517724481  2463986301  2308170622   \n",
       "\n",
       "           C5          C6          C7  ...  N4  N5  N6  N7  N8  N9  N10  \\\n",
       "0  2967512603   580883881  2303407174  ...   0   0   0   0   0   0    0   \n",
       "1  2116767313   571765677  2303407174  ...   0   0   0   0   0   0    0   \n",
       "2  2116767313   571765677  2303407174  ...   0   0   0   0   0   0    0   \n",
       "3  2967512603  1607619193  1342367140  ...   0   0   0   0   0   0    0   \n",
       "4  2967512603   580883881  2303407174  ...   0   0   0   0   0   0    0   \n",
       "\n",
       "          C10         C11         C12  \n",
       "0  2128770044  3617851689  4220791646  \n",
       "1  4256459078  2379633508  1284343215  \n",
       "2  2840358457  3831440054  1213938795  \n",
       "3  4039873369   535829057  3828748840  \n",
       "4   907610626  3617851689  4220791646  \n",
       "\n",
       "[5 rows x 25 columns]"
      ]
     },
     "execution_count": 160,
     "metadata": {},
     "output_type": "execute_result"
    }
   ],
   "source": [
    "df_test.head()"
   ]
  },
  {
   "cell_type": "code",
   "execution_count": 161,
   "metadata": {},
   "outputs": [],
   "source": [
    "X_val = df_test # creating our validation test set (features only)"
   ]
  },
  {
   "cell_type": "code",
   "execution_count": 163,
   "metadata": {},
   "outputs": [],
   "source": [
    "y_val = RF_model.predict_proba(X_val)"
   ]
  },
  {
   "cell_type": "code",
   "execution_count": 164,
   "metadata": {},
   "outputs": [],
   "source": [
    "final_prob = y_val[:,1] #selecting the second column (which is the probability for class 1)"
   ]
  },
  {
   "cell_type": "code",
   "execution_count": 165,
   "metadata": {},
   "outputs": [],
   "source": [
    "df_test['id'] = final_id"
   ]
  },
  {
   "cell_type": "code",
   "execution_count": 166,
   "metadata": {},
   "outputs": [],
   "source": [
    "df_test['Prob'] = final_prob"
   ]
  },
  {
   "cell_type": "code",
   "execution_count": 167,
   "metadata": {},
   "outputs": [
    {
     "data": {
      "text/html": [
       "<div>\n",
       "<style scoped>\n",
       "    .dataframe tbody tr th:only-of-type {\n",
       "        vertical-align: middle;\n",
       "    }\n",
       "\n",
       "    .dataframe tbody tr th {\n",
       "        vertical-align: top;\n",
       "    }\n",
       "\n",
       "    .dataframe thead th {\n",
       "        text-align: right;\n",
       "    }\n",
       "</style>\n",
       "<table border=\"1\" class=\"dataframe\">\n",
       "  <thead>\n",
       "    <tr style=\"text-align: right;\">\n",
       "      <th></th>\n",
       "      <th>id</th>\n",
       "      <th>purchaseTime</th>\n",
       "      <th>hour</th>\n",
       "      <th>C1</th>\n",
       "      <th>C2</th>\n",
       "      <th>C3</th>\n",
       "      <th>C4</th>\n",
       "      <th>C5</th>\n",
       "      <th>C6</th>\n",
       "      <th>C7</th>\n",
       "      <th>...</th>\n",
       "      <th>N5</th>\n",
       "      <th>N6</th>\n",
       "      <th>N7</th>\n",
       "      <th>N8</th>\n",
       "      <th>N9</th>\n",
       "      <th>N10</th>\n",
       "      <th>C10</th>\n",
       "      <th>C11</th>\n",
       "      <th>C12</th>\n",
       "      <th>Prob</th>\n",
       "    </tr>\n",
       "  </thead>\n",
       "  <tbody>\n",
       "    <tr>\n",
       "      <th>0</th>\n",
       "      <td>1</td>\n",
       "      <td>-1</td>\n",
       "      <td>0</td>\n",
       "      <td>2569487005</td>\n",
       "      <td>403381353</td>\n",
       "      <td>681762206</td>\n",
       "      <td>652481754</td>\n",
       "      <td>2967512603</td>\n",
       "      <td>580883881</td>\n",
       "      <td>2303407174</td>\n",
       "      <td>...</td>\n",
       "      <td>0</td>\n",
       "      <td>0</td>\n",
       "      <td>0</td>\n",
       "      <td>0</td>\n",
       "      <td>0</td>\n",
       "      <td>0</td>\n",
       "      <td>2128770044</td>\n",
       "      <td>3617851689</td>\n",
       "      <td>4220791646</td>\n",
       "      <td>0.666667</td>\n",
       "    </tr>\n",
       "    <tr>\n",
       "      <th>1</th>\n",
       "      <td>2</td>\n",
       "      <td>-1</td>\n",
       "      <td>0</td>\n",
       "      <td>2416811818</td>\n",
       "      <td>1235983246</td>\n",
       "      <td>3653557526</td>\n",
       "      <td>652481754</td>\n",
       "      <td>2116767313</td>\n",
       "      <td>571765677</td>\n",
       "      <td>2303407174</td>\n",
       "      <td>...</td>\n",
       "      <td>0</td>\n",
       "      <td>0</td>\n",
       "      <td>0</td>\n",
       "      <td>0</td>\n",
       "      <td>0</td>\n",
       "      <td>0</td>\n",
       "      <td>4256459078</td>\n",
       "      <td>2379633508</td>\n",
       "      <td>1284343215</td>\n",
       "      <td>0.650000</td>\n",
       "    </tr>\n",
       "    <tr>\n",
       "      <th>2</th>\n",
       "      <td>3</td>\n",
       "      <td>-1</td>\n",
       "      <td>0</td>\n",
       "      <td>3765056181</td>\n",
       "      <td>1235983246</td>\n",
       "      <td>1310333812</td>\n",
       "      <td>652481754</td>\n",
       "      <td>2116767313</td>\n",
       "      <td>571765677</td>\n",
       "      <td>2303407174</td>\n",
       "      <td>...</td>\n",
       "      <td>0</td>\n",
       "      <td>0</td>\n",
       "      <td>0</td>\n",
       "      <td>0</td>\n",
       "      <td>0</td>\n",
       "      <td>0</td>\n",
       "      <td>2840358457</td>\n",
       "      <td>3831440054</td>\n",
       "      <td>1213938795</td>\n",
       "      <td>0.633333</td>\n",
       "    </tr>\n",
       "    <tr>\n",
       "      <th>3</th>\n",
       "      <td>4</td>\n",
       "      <td>-1</td>\n",
       "      <td>0</td>\n",
       "      <td>955802445</td>\n",
       "      <td>403381353</td>\n",
       "      <td>2290282995</td>\n",
       "      <td>652481754</td>\n",
       "      <td>2967512603</td>\n",
       "      <td>1607619193</td>\n",
       "      <td>1342367140</td>\n",
       "      <td>...</td>\n",
       "      <td>0</td>\n",
       "      <td>0</td>\n",
       "      <td>0</td>\n",
       "      <td>0</td>\n",
       "      <td>0</td>\n",
       "      <td>0</td>\n",
       "      <td>4039873369</td>\n",
       "      <td>535829057</td>\n",
       "      <td>3828748840</td>\n",
       "      <td>0.650000</td>\n",
       "    </tr>\n",
       "    <tr>\n",
       "      <th>4</th>\n",
       "      <td>5</td>\n",
       "      <td>-1</td>\n",
       "      <td>0</td>\n",
       "      <td>2569487005</td>\n",
       "      <td>2517724481</td>\n",
       "      <td>2463986301</td>\n",
       "      <td>2308170622</td>\n",
       "      <td>2967512603</td>\n",
       "      <td>580883881</td>\n",
       "      <td>2303407174</td>\n",
       "      <td>...</td>\n",
       "      <td>0</td>\n",
       "      <td>0</td>\n",
       "      <td>0</td>\n",
       "      <td>0</td>\n",
       "      <td>0</td>\n",
       "      <td>0</td>\n",
       "      <td>907610626</td>\n",
       "      <td>3617851689</td>\n",
       "      <td>4220791646</td>\n",
       "      <td>0.666667</td>\n",
       "    </tr>\n",
       "  </tbody>\n",
       "</table>\n",
       "<p>5 rows × 26 columns</p>\n",
       "</div>"
      ],
      "text/plain": [
       "   id  purchaseTime  hour          C1          C2          C3          C4  \\\n",
       "0   1            -1     0  2569487005   403381353   681762206   652481754   \n",
       "1   2            -1     0  2416811818  1235983246  3653557526   652481754   \n",
       "2   3            -1     0  3765056181  1235983246  1310333812   652481754   \n",
       "3   4            -1     0   955802445   403381353  2290282995   652481754   \n",
       "4   5            -1     0  2569487005  2517724481  2463986301  2308170622   \n",
       "\n",
       "           C5          C6          C7  ...  N5  N6  N7  N8  N9  N10  \\\n",
       "0  2967512603   580883881  2303407174  ...   0   0   0   0   0    0   \n",
       "1  2116767313   571765677  2303407174  ...   0   0   0   0   0    0   \n",
       "2  2116767313   571765677  2303407174  ...   0   0   0   0   0    0   \n",
       "3  2967512603  1607619193  1342367140  ...   0   0   0   0   0    0   \n",
       "4  2967512603   580883881  2303407174  ...   0   0   0   0   0    0   \n",
       "\n",
       "          C10         C11         C12      Prob  \n",
       "0  2128770044  3617851689  4220791646  0.666667  \n",
       "1  4256459078  2379633508  1284343215  0.650000  \n",
       "2  2840358457  3831440054  1213938795  0.633333  \n",
       "3  4039873369   535829057  3828748840  0.650000  \n",
       "4   907610626  3617851689  4220791646  0.666667  \n",
       "\n",
       "[5 rows x 26 columns]"
      ]
     },
     "execution_count": 167,
     "metadata": {},
     "output_type": "execute_result"
    }
   ],
   "source": [
    "df_test.head()"
   ]
  },
  {
   "cell_type": "code",
   "execution_count": 168,
   "metadata": {},
   "outputs": [],
   "source": [
    "#selecting only Id and probability columns\n",
    "df_test = df_test[['id', 'Prob']]"
   ]
  },
  {
   "cell_type": "code",
   "execution_count": 169,
   "metadata": {},
   "outputs": [
    {
     "data": {
      "text/html": [
       "<div>\n",
       "<style scoped>\n",
       "    .dataframe tbody tr th:only-of-type {\n",
       "        vertical-align: middle;\n",
       "    }\n",
       "\n",
       "    .dataframe tbody tr th {\n",
       "        vertical-align: top;\n",
       "    }\n",
       "\n",
       "    .dataframe thead th {\n",
       "        text-align: right;\n",
       "    }\n",
       "</style>\n",
       "<table border=\"1\" class=\"dataframe\">\n",
       "  <thead>\n",
       "    <tr style=\"text-align: right;\">\n",
       "      <th></th>\n",
       "      <th>id</th>\n",
       "      <th>Prob</th>\n",
       "    </tr>\n",
       "  </thead>\n",
       "  <tbody>\n",
       "    <tr>\n",
       "      <th>0</th>\n",
       "      <td>1</td>\n",
       "      <td>0.666667</td>\n",
       "    </tr>\n",
       "    <tr>\n",
       "      <th>1</th>\n",
       "      <td>2</td>\n",
       "      <td>0.650000</td>\n",
       "    </tr>\n",
       "    <tr>\n",
       "      <th>2</th>\n",
       "      <td>3</td>\n",
       "      <td>0.633333</td>\n",
       "    </tr>\n",
       "    <tr>\n",
       "      <th>3</th>\n",
       "      <td>4</td>\n",
       "      <td>0.650000</td>\n",
       "    </tr>\n",
       "    <tr>\n",
       "      <th>4</th>\n",
       "      <td>5</td>\n",
       "      <td>0.666667</td>\n",
       "    </tr>\n",
       "  </tbody>\n",
       "</table>\n",
       "</div>"
      ],
      "text/plain": [
       "   id      Prob\n",
       "0   1  0.666667\n",
       "1   2  0.650000\n",
       "2   3  0.633333\n",
       "3   4  0.650000\n",
       "4   5  0.666667"
      ]
     },
     "execution_count": 169,
     "metadata": {},
     "output_type": "execute_result"
    }
   ],
   "source": [
    "df_test.head()"
   ]
  },
  {
   "cell_type": "code",
   "execution_count": 171,
   "metadata": {},
   "outputs": [],
   "source": [
    "#saving output to csv\n",
    "df_test.to_csv('prediction output_MaximilianBaum_e197614.csv', index=False)"
   ]
  }
 ],
 "metadata": {
  "kernelspec": {
   "display_name": "Python 3",
   "language": "python",
   "name": "python3"
  },
  "language_info": {
   "codemirror_mode": {
    "name": "ipython",
    "version": 3
   },
   "file_extension": ".py",
   "mimetype": "text/x-python",
   "name": "python",
   "nbconvert_exporter": "python",
   "pygments_lexer": "ipython3",
   "version": "3.6.4"
  }
 },
 "nbformat": 4,
 "nbformat_minor": 2
}
